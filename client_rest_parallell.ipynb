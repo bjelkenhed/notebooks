{
 "cells": [
  {
   "cell_type": "code",
   "execution_count": 10,
   "metadata": {},
   "outputs": [],
   "source": [
    "import aiohttp\n",
    "import asyncio\n",
    "import numpy as np\n",
    "import ujson\n",
    "from multiprocessing.dummy import Pool as ThreadPool "
   ]
  },
  {
   "cell_type": "code",
   "execution_count": 11,
   "metadata": {},
   "outputs": [],
   "source": [
    "class ModelClient():\n",
    "    \n",
    "    #MODEL_HOST = 'http://192.168.64.8:30123'\n",
    "    MODEL_HOST = 'http://10.100.241.46:8501'\n",
    "    \n",
    "    def __init__(self, model_host = MODEL_HOST):\n",
    "        self.model_host = model_host\n",
    "            \n",
    "    async def async_predict(self, indata):    \n",
    "        async with aiohttp.ClientSession() as session:\n",
    "            async with session.post(self.model_host + '/v1/models/model:predict', json=self.numpy_to_json(indata)) as resp:\n",
    "                response_json = await resp.json()\n",
    "                return self.json_to_numpy(response_json)\n",
    "    \n",
    "    def predict(self, indata):\n",
    "        loop = asyncio.get_event_loop()\n",
    "        return loop.run_until_complete(self.async_predict(indata))\n",
    "    \n",
    "    def json_to_numpy(self, json_str, key='predictions'):\n",
    "        return np.array(json_str[key])\n",
    "\n",
    "    def numpy_to_json(self, nd_array, key='instances'):\n",
    "        try:\n",
    "            if nd_array.shape[1] == 1:\n",
    "                nd_array.reshape(nd_array.shape[0])\n",
    "            nd_array_list =  { key : nd_array.tolist() } \n",
    "            return nd_array_list\n",
    "        except Exception as e:\n",
    "            nd_array_list =  { key : [] } \n",
    "            return nd_array_list\n"
   ]
  },
  {
   "cell_type": "code",
   "execution_count": 12,
   "metadata": {},
   "outputs": [],
   "source": [
    "modelClient = ModelClient()\n",
    "indata = np.random.randint(100000, size=(5000, 20)).astype(np.float32)\n",
    "\n",
    "\n",
    "indata_batches = [indata, indata, indata, indata, indata, indata, indata, indata, indata, indata,\n",
    "                 indata, indata, indata, indata, indata, indata, indata, indata, indata, indata,\n",
    "                 indata, indata, indata, indata, indata, indata, indata, indata, indata, indata,\n",
    "                 indata, indata, indata, indata, indata, indata, indata, indata, indata, indata,\n",
    "                 indata, indata, indata, indata, indata, indata, indata, indata, indata, indata]"
   ]
  },
  {
   "cell_type": "code",
   "execution_count": 15,
   "metadata": {},
   "outputs": [],
   "source": [
    "def make_prediction(indata):\n",
    "    #print(\"Request\", indata.shape)\n",
    "    result = modelClient.predict(indata)\n",
    "    #print(\"Response\", result.shape)"
   ]
  },
  {
   "cell_type": "code",
   "execution_count": 17,
   "metadata": {},
   "outputs": [
    {
     "name": "stdout",
     "output_type": "stream",
     "text": [
      "CPU times: user 3.05 s, sys: 271 ms, total: 3.33 s\n",
      "Wall time: 5.02 s\n"
     ]
    }
   ],
   "source": [
    "pool = ThreadPool(20) \n",
    "\n",
    "%time result = pool.map(make_prediction, indata_batches)"
   ]
  },
  {
   "cell_type": "code",
   "execution_count": 9,
   "metadata": {},
   "outputs": [
    {
     "data": {
      "text/plain": [
       "56306.3063063063"
      ]
     },
     "execution_count": 9,
     "metadata": {},
     "output_type": "execute_result"
    }
   ],
   "source": [
    "250000 / 4.44"
   ]
  },
  {
   "cell_type": "code",
   "execution_count": null,
   "metadata": {},
   "outputs": [],
   "source": []
  }
 ],
 "metadata": {
  "kernelspec": {
   "display_name": "Python 3",
   "language": "python",
   "name": "python3"
  },
  "language_info": {
   "codemirror_mode": {
    "name": "ipython",
    "version": 3
   },
   "file_extension": ".py",
   "mimetype": "text/x-python",
   "name": "python",
   "nbconvert_exporter": "python",
   "pygments_lexer": "ipython3",
   "version": "3.5.2"
  }
 },
 "nbformat": 4,
 "nbformat_minor": 2
}
