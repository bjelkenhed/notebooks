{
 "cells": [
  {
   "cell_type": "code",
   "execution_count": 64,
   "metadata": {},
   "outputs": [],
   "source": [
    "import numpy as np\n",
    "from grpc.beta import implementations\n",
    "from tensorflow_serving.apis import predict_pb2\n",
    "from tensorflow_serving.apis import prediction_service_pb2\n",
    "import tensorflow as tf\n",
    "\n",
    "from tensorflow_serving.apis import prediction_service_pb2_grpc\n"
   ]
  },
  {
   "cell_type": "code",
   "execution_count": 65,
   "metadata": {},
   "outputs": [],
   "source": [
    "# https://weiminwang.blog/2017/09/12/introductory-guide-to-tensorflow-serving/\n",
    "# https://medium.com/epigramai/tensorflow-serving-101-pt-2-682eaf7469e7"
   ]
  },
  {
   "cell_type": "code",
   "execution_count": 86,
   "metadata": {},
   "outputs": [],
   "source": [
    "def get_stub(host='127.0.0.1', port='8500'):\n",
    "    channel = implementations.insecure_channel(host, int(port))\n",
    "    stub = prediction_service_pb2.beta_create_PredictionService_stub(channel)\n",
    "    return stub"
   ]
  },
  {
   "cell_type": "code",
   "execution_count": 87,
   "metadata": {},
   "outputs": [],
   "source": [
    "def get_model_prediction(stub, data):\n",
    "\n",
    "    request = predict_pb2.PredictRequest()\n",
    "    request.model_spec.name = 'model'\n",
    "    request.model_spec.signature_name = 'serving_default'\n",
    "    \n",
    "    request.inputs['input'].CopyFrom(tf.contrib.util.make_tensor_proto(data, shape=data.shape))\n",
    "    \n",
    "    response = stub.Predict.future(request, 5.0)  # wait max 5s\n",
    "    return response.result().outputs[\"score\"].float_val"
   ]
  },
  {
   "cell_type": "code",
   "execution_count": 92,
   "metadata": {},
   "outputs": [
    {
     "name": "stderr",
     "output_type": "stream",
     "text": [
      "/Users/stams/anaconda3/lib/python3.6/site-packages/tensorflow_serving/apis/prediction_service_pb2.py:131: DeprecationWarning: beta_create_PredictionService_stub() method is deprecated. This method will be removed in near future versions of TF Serving. Please switch to GA gRPC API in prediction_service_pb2_grpc.\n",
      "  'prediction_service_pb2_grpc.', DeprecationWarning)\n"
     ]
    }
   ],
   "source": [
    "stub = get_stub(host='192.168.64.13', port='30125')"
   ]
  },
  {
   "cell_type": "code",
   "execution_count": 97,
   "metadata": {},
   "outputs": [],
   "source": [
    "data = np.random.randint(100000, size=(10000, 20)).astype(np.float32)"
   ]
  },
  {
   "cell_type": "code",
   "execution_count": 101,
   "metadata": {},
   "outputs": [],
   "source": [
    "def test(nb_calls):\n",
    "    for i in range(nb_calls):\n",
    "        %time prediction = get_model_prediction(stub, data) "
   ]
  },
  {
   "cell_type": "code",
   "execution_count": 103,
   "metadata": {},
   "outputs": [
    {
     "name": "stdout",
     "output_type": "stream",
     "text": [
      "CPU times: user 2.65 ms, sys: 4.73 ms, total: 7.37 ms\n",
      "Wall time: 945 ms\n",
      "CPU times: user 2.57 ms, sys: 3.21 ms, total: 5.78 ms\n",
      "Wall time: 887 ms\n",
      "CPU times: user 2.58 ms, sys: 3.95 ms, total: 6.53 ms\n",
      "Wall time: 808 ms\n",
      "CPU times: user 2.5 ms, sys: 2.82 ms, total: 5.32 ms\n",
      "Wall time: 840 ms\n",
      "CPU times: user 2.54 ms, sys: 3.37 ms, total: 5.91 ms\n",
      "Wall time: 807 ms\n",
      "CPU times: user 2.72 ms, sys: 2.69 ms, total: 5.42 ms\n",
      "Wall time: 873 ms\n",
      "CPU times: user 2.71 ms, sys: 3.21 ms, total: 5.93 ms\n",
      "Wall time: 885 ms\n",
      "CPU times: user 2.73 ms, sys: 3.54 ms, total: 6.27 ms\n",
      "Wall time: 888 ms\n",
      "CPU times: user 2.61 ms, sys: 3.38 ms, total: 5.99 ms\n",
      "Wall time: 948 ms\n",
      "CPU times: user 2.76 ms, sys: 3.73 ms, total: 6.49 ms\n",
      "Wall time: 888 ms\n",
      "CPU times: user 32.9 ms, sys: 35.3 ms, total: 68.2 ms\n",
      "Wall time: 8.78 s\n"
     ]
    }
   ],
   "source": [
    "%time test(10)"
   ]
  },
  {
   "cell_type": "code",
   "execution_count": null,
   "metadata": {},
   "outputs": [],
   "source": []
  }
 ],
 "metadata": {
  "kernelspec": {
   "display_name": "Python 3",
   "language": "python",
   "name": "python3"
  },
  "language_info": {
   "codemirror_mode": {
    "name": "ipython",
    "version": 3
   },
   "file_extension": ".py",
   "mimetype": "text/x-python",
   "name": "python",
   "nbconvert_exporter": "python",
   "pygments_lexer": "ipython3",
   "version": "3.6.5"
  }
 },
 "nbformat": 4,
 "nbformat_minor": 2
}
