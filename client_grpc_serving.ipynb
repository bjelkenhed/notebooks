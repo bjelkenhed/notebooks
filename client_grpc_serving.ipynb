{
 "cells": [
  {
   "cell_type": "code",
   "execution_count": 1,
   "metadata": {},
   "outputs": [],
   "source": [
    "import numpy as np\n",
    "from grpc.beta import implementations\n",
    "from tensorflow_serving.apis import predict_pb2\n",
    "from tensorflow_serving.apis import prediction_service_pb2\n",
    "import tensorflow as tf\n",
    "\n",
    "from tensorflow_serving.apis import prediction_service_pb2_grpc\n"
   ]
  },
  {
   "cell_type": "code",
   "execution_count": 2,
   "metadata": {},
   "outputs": [],
   "source": [
    "# https://weiminwang.blog/2017/09/12/introductory-guide-to-tensorflow-serving/\n",
    "# https://medium.com/epigramai/tensorflow-serving-101-pt-2-682eaf7469e7"
   ]
  },
  {
   "cell_type": "code",
   "execution_count": 3,
   "metadata": {},
   "outputs": [],
   "source": [
    "def get_stub(host='127.0.0.1', port='8500'):\n",
    "    channel = implementations.insecure_channel(host, int(port))\n",
    "    stub = prediction_service_pb2.beta_create_PredictionService_stub(channel)\n",
    "    return stub"
   ]
  },
  {
   "cell_type": "code",
   "execution_count": 4,
   "metadata": {},
   "outputs": [],
   "source": [
    "def get_model_prediction(stub, data):\n",
    "\n",
    "    request = predict_pb2.PredictRequest()\n",
    "    request.model_spec.name = 'model'\n",
    "    request.model_spec.signature_name = 'serving_default'\n",
    "    \n",
    "    request.inputs['input'].CopyFrom(tf.contrib.util.make_tensor_proto(data, shape=data.shape))\n",
    "    \n",
    "    response = stub.Predict.future(request, 5.0)  # wait max 5s\n",
    "    return response.result().outputs[\"score\"].float_val"
   ]
  },
  {
   "cell_type": "code",
   "execution_count": 9,
   "metadata": {},
   "outputs": [
    {
     "name": "stderr",
     "output_type": "stream",
     "text": [
      "/usr/local/lib/python3.5/dist-packages/tensorflow_serving/apis/prediction_service_pb2.py:131: DeprecationWarning: beta_create_PredictionService_stub() method is deprecated. This method will be removed in near future versions of TF Serving. Please switch to GA gRPC API in prediction_service_pb2_grpc.\n",
      "  'prediction_service_pb2_grpc.', DeprecationWarning)\n"
     ]
    }
   ],
   "source": [
    "#stub = get_stub(host='192.168.64.13', port='30125')\n",
    "stub = get_stub(host='10.100.241.46', port='8500')\n"
   ]
  },
  {
   "cell_type": "code",
   "execution_count": 10,
   "metadata": {},
   "outputs": [],
   "source": [
    "data = np.random.randint(100000, size=(10000, 20)).astype(np.float32)"
   ]
  },
  {
   "cell_type": "code",
   "execution_count": 14,
   "metadata": {},
   "outputs": [],
   "source": [
    "def test(nb_calls):\n",
    "    for i in range(nb_calls):\n",
    "        %time prediction = get_model_prediction(stub, data) "
   ]
  },
  {
   "cell_type": "code",
   "execution_count": 15,
   "metadata": {},
   "outputs": [
    {
     "name": "stdout",
     "output_type": "stream",
     "text": [
      "CPU times: user 3.25 ms, sys: 476 µs, total: 3.72 ms\n",
      "Wall time: 339 ms\n",
      "CPU times: user 3.35 ms, sys: 1.09 ms, total: 4.43 ms\n",
      "Wall time: 330 ms\n",
      "CPU times: user 2.25 ms, sys: 1.16 ms, total: 3.41 ms\n",
      "Wall time: 518 ms\n",
      "CPU times: user 1.13 ms, sys: 2.09 ms, total: 3.22 ms\n",
      "Wall time: 396 ms\n",
      "CPU times: user 1.59 ms, sys: 1.73 ms, total: 3.32 ms\n",
      "Wall time: 337 ms\n",
      "CPU times: user 3.76 ms, sys: 1.69 ms, total: 5.45 ms\n",
      "Wall time: 347 ms\n",
      "CPU times: user 1.1 ms, sys: 2.07 ms, total: 3.17 ms\n",
      "Wall time: 391 ms\n",
      "CPU times: user 2.52 ms, sys: 731 µs, total: 3.25 ms\n",
      "Wall time: 423 ms\n",
      "CPU times: user 4.99 ms, sys: 0 ns, total: 4.99 ms\n",
      "Wall time: 349 ms\n",
      "CPU times: user 3.14 ms, sys: 885 µs, total: 4.03 ms\n",
      "Wall time: 341 ms\n",
      "CPU times: user 33.2 ms, sys: 13.9 ms, total: 47 ms\n",
      "Wall time: 3.78 s\n"
     ]
    }
   ],
   "source": [
    "%time test(10)"
   ]
  },
  {
   "cell_type": "code",
   "execution_count": null,
   "metadata": {},
   "outputs": [],
   "source": []
  }
 ],
 "metadata": {
  "kernelspec": {
   "display_name": "Python 3",
   "language": "python",
   "name": "python3"
  },
  "language_info": {
   "codemirror_mode": {
    "name": "ipython",
    "version": 3
   },
   "file_extension": ".py",
   "mimetype": "text/x-python",
   "name": "python",
   "nbconvert_exporter": "python",
   "pygments_lexer": "ipython3",
   "version": "3.5.2"
  }
 },
 "nbformat": 4,
 "nbformat_minor": 2
}
