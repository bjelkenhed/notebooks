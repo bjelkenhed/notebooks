{
 "cells": [
  {
   "cell_type": "code",
   "execution_count": 1,
   "metadata": {},
   "outputs": [],
   "source": [
    "from aiohttp import web\n",
    "import numpy as np\n",
    "import json as json\n",
    "import timeit\n",
    "from tensorflow.keras.models import model_from_json"
   ]
  },
  {
   "cell_type": "code",
   "execution_count": 2,
   "metadata": {},
   "outputs": [],
   "source": [
    "class Model():\n",
    "\n",
    "    initialized = False\n",
    "\n",
    "    def __init__(self):\n",
    "        if (Model.initialized == False): Model.init()\n",
    "\n",
    "    @classmethod\n",
    "    def init(cls):\n",
    "        print('init')\n",
    "        cls.model = cls.load_keras_model(\"/model/kompetens-model\", \"1.1\")\n",
    "        cls.initialized = True\n",
    "\n",
    "    @classmethod\n",
    "    def load_keras_model(cls, name, model_version = None):\n",
    "        if model_version: name = name + '-' + model_version\n",
    "        json_file = open(name + '.json', 'r')\n",
    "        loaded_model_json = json_file.read()\n",
    "        json_file.close()\n",
    "        loaded_model = model_from_json(loaded_model_json)\n",
    "        loaded_model.load_weights(name + '-weights.h5')\n",
    "        return loaded_model\n",
    "\n",
    "    def json_to_numpy(self, json_str, key='data'):\n",
    "        return np.array(json.loads(json_str)[key])\n",
    "\n",
    "    def numpy_to_json(self, nd_array, key='data'):\n",
    "        try:\n",
    "            if nd_array.shape[1] == 1:\n",
    "                nd_array.reshape(nd_array.shape[0])\n",
    "            nd_array_list =  { key : nd_array.tolist() }\n",
    "            return json.dumps(nd_array_list)\n",
    "        except Exception as e:\n",
    "            nd_array_list =  { key : [] }\n",
    "        return json.dumps(nd_array_list)\n",
    "\n",
    "    def predict(self, indata):\n",
    "        return Model.model.predict(indata)\n",
    "\n",
    "    def predict_json(self, json_indata):\n",
    "        numpy_indata = self.json_to_numpy(json_indata)\n",
    "        model_prediction = self.predict(numpy_indata)\n",
    "        return self.numpy_to_json(model_prediction)"
   ]
  },
  {
   "cell_type": "code",
   "execution_count": 3,
   "metadata": {},
   "outputs": [],
   "source": [
    "async def predict(request):\n",
    "    model = Model()\n",
    "    start_time = timeit.default_timer()\n",
    "    json_indata = await request.json()\n",
    "    model_prediction = model.predict_json(json_indata)\n",
    "    print(timeit.default_timer() - start_time)\n",
    "    return web.json_response(model_prediction)\n"
   ]
  },
  {
   "cell_type": "code",
   "execution_count": 4,
   "metadata": {},
   "outputs": [],
   "source": [
    "app = web.Application(client_max_size=10000000)"
   ]
  },
  {
   "cell_type": "code",
   "execution_count": 5,
   "metadata": {},
   "outputs": [],
   "source": [
    "app.router.add_routes([web.post('/predict', predict)])"
   ]
  },
  {
   "cell_type": "code",
   "execution_count": null,
   "metadata": {},
   "outputs": [
    {
     "name": "stdout",
     "output_type": "stream",
     "text": [
      "======== Running on http://0.0.0.0:8080 ========\n",
      "(Press CTRL+C to quit)\n",
      "init\n",
      "1.6072732000029646\n",
      "1.7567156000004616\n",
      "1.618117699996219\n",
      "1.4719272999936948\n",
      "1.5727919999917503\n",
      "1.6865800999948988\n",
      "1.8347643000015523\n",
      "1.4930165000114357\n",
      "1.4524811000010232\n",
      "1.5412168000038946\n",
      "1.7188888999953633\n"
     ]
    }
   ],
   "source": [
    "web.run_app(app)"
   ]
  },
  {
   "cell_type": "code",
   "execution_count": null,
   "metadata": {},
   "outputs": [],
   "source": []
  }
 ],
 "metadata": {
  "kernelspec": {
   "display_name": "Python 3",
   "language": "python",
   "name": "python3"
  },
  "language_info": {
   "codemirror_mode": {
    "name": "ipython",
    "version": 3
   },
   "file_extension": ".py",
   "mimetype": "text/x-python",
   "name": "python",
   "nbconvert_exporter": "python",
   "pygments_lexer": "ipython3",
   "version": "3.5.2"
  }
 },
 "nbformat": 4,
 "nbformat_minor": 2
}
