{
 "cells": [
  {
   "cell_type": "code",
   "execution_count": 1,
   "metadata": {},
   "outputs": [],
   "source": [
    "import aiohttp\n",
    "import asyncio\n",
    "import numpy as np\n",
    "import json"
   ]
  },
  {
   "cell_type": "code",
   "execution_count": 2,
   "metadata": {},
   "outputs": [],
   "source": [
    "def json_to_numpy(json_str, key='data'):\n",
    "    return np.array(json.loads(json_str)[key])\n",
    "\n",
    "def numpy_to_json(nd_array, key='data'):\n",
    "    try:\n",
    "        if nd_array.shape[1] == 1:\n",
    "            nd_array.reshape(nd_array.shape[0])\n",
    "        nd_array_list =  { key : nd_array.tolist() } \n",
    "        return json.dumps(nd_array_list)\n",
    "    except Exception as e:\n",
    "        nd_array_list =  { key : [] } \n",
    "        return json.dumps(nd_array_list)"
   ]
  },
  {
   "cell_type": "code",
   "execution_count": 3,
   "metadata": {},
   "outputs": [],
   "source": [
    "async def async_predict(indata):    \n",
    "    async with aiohttp.ClientSession() as session:\n",
    "        async with session.post('http://localhost:8080/predict', json=numpy_to_json(indata)) as resp:\n",
    "            response_json = await resp.json()\n",
    "            return json_to_numpy(response_json)\n"
   ]
  },
  {
   "cell_type": "code",
   "execution_count": 4,
   "metadata": {},
   "outputs": [],
   "source": [
    "indata = np.random.randint(100000, size=(10000, 20))"
   ]
  },
  {
   "cell_type": "code",
   "execution_count": 5,
   "metadata": {},
   "outputs": [],
   "source": [
    "loop = asyncio.get_event_loop()\n",
    "prediction = loop.run_until_complete(async_predict(indata))"
   ]
  },
  {
   "cell_type": "code",
   "execution_count": 6,
   "metadata": {},
   "outputs": [
    {
     "name": "stdout",
     "output_type": "stream",
     "text": [
      "(10000, 1)\n"
     ]
    }
   ],
   "source": [
    "print(prediction.shape)"
   ]
  },
  {
   "cell_type": "code",
   "execution_count": 7,
   "metadata": {},
   "outputs": [
    {
     "name": "stdout",
     "output_type": "stream",
     "text": [
      "CPU times: user 30 ms, sys: 50 ms, total: 80 ms\n",
      "Wall time: 1.83 s\n",
      "CPU times: user 90 ms, sys: 0 ns, total: 90 ms\n",
      "Wall time: 1.71 s\n",
      "CPU times: user 40 ms, sys: 10 ms, total: 50 ms\n",
      "Wall time: 1.52 s\n",
      "CPU times: user 50 ms, sys: 10 ms, total: 60 ms\n",
      "Wall time: 1.63 s\n",
      "CPU times: user 50 ms, sys: 0 ns, total: 50 ms\n",
      "Wall time: 1.75 s\n",
      "CPU times: user 50 ms, sys: 0 ns, total: 50 ms\n",
      "Wall time: 1.89 s\n",
      "CPU times: user 60 ms, sys: 20 ms, total: 80 ms\n",
      "Wall time: 1.58 s\n",
      "CPU times: user 50 ms, sys: 10 ms, total: 60 ms\n",
      "Wall time: 1.51 s\n",
      "CPU times: user 30 ms, sys: 30 ms, total: 60 ms\n",
      "Wall time: 1.6 s\n",
      "CPU times: user 60 ms, sys: 0 ns, total: 60 ms\n",
      "Wall time: 1.78 s\n"
     ]
    }
   ],
   "source": [
    "for i in range(10):\n",
    "    %time prediction = loop.run_until_complete(async_predict(indata))"
   ]
  },
  {
   "cell_type": "code",
   "execution_count": null,
   "metadata": {},
   "outputs": [],
   "source": []
  }
 ],
 "metadata": {
  "kernelspec": {
   "display_name": "Python 3",
   "language": "python",
   "name": "python3"
  },
  "language_info": {
   "codemirror_mode": {
    "name": "ipython",
    "version": 3
   },
   "file_extension": ".py",
   "mimetype": "text/x-python",
   "name": "python",
   "nbconvert_exporter": "python",
   "pygments_lexer": "ipython3",
   "version": "3.5.2"
  }
 },
 "nbformat": 4,
 "nbformat_minor": 2
}
