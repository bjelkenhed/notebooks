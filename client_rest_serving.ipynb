{
 "cells": [
  {
   "cell_type": "code",
   "execution_count": 1,
   "metadata": {},
   "outputs": [],
   "source": [
    "import aiohttp\n",
    "import asyncio\n",
    "import numpy as np\n",
    "import ujson as json"
   ]
  },
  {
   "cell_type": "code",
   "execution_count": 2,
   "metadata": {},
   "outputs": [],
   "source": [
    "def json_to_numpy(json_str, key='predictions'):\n",
    "    return np.array(json_str[key])\n",
    "\n",
    "def numpy_to_json(nd_array, key='instances'):\n",
    "    try:\n",
    "        if nd_array.shape[1] == 1:\n",
    "            nd_array.reshape(nd_array.shape[0])\n",
    "        nd_array_list =  { key : nd_array.tolist() } \n",
    "        return nd_array_list\n",
    "    except Exception as e:\n",
    "        nd_array_list =  { key : [] } \n",
    "        return nd_array_list"
   ]
  },
  {
   "cell_type": "code",
   "execution_count": 3,
   "metadata": {},
   "outputs": [],
   "source": [
    "MODEL_HOST = 'http://192.168.64.13:30126'"
   ]
  },
  {
   "cell_type": "code",
   "execution_count": 4,
   "metadata": {},
   "outputs": [],
   "source": [
    "async def async_predict(indata):    \n",
    "    async with aiohttp.ClientSession() as session:\n",
    "        async with session.post(MODEL_HOST + '/v1/models/model:predict', json=numpy_to_json(indata)) as resp:\n",
    "            response_json = await resp.json()\n",
    "            return json_to_numpy(response_json)"
   ]
  },
  {
   "cell_type": "code",
   "execution_count": 5,
   "metadata": {},
   "outputs": [],
   "source": [
    "indata = np.random.randint(100000, size=(10000, 20)).astype(np.float32)"
   ]
  },
  {
   "cell_type": "code",
   "execution_count": 6,
   "metadata": {},
   "outputs": [
    {
     "name": "stdout",
     "output_type": "stream",
     "text": [
      "CPU times: user 76.9 ms, sys: 16.9 ms, total: 93.8 ms\n",
      "Wall time: 1.03 s\n"
     ]
    }
   ],
   "source": [
    "loop = asyncio.get_event_loop()\n",
    "%time prediction = loop.run_until_complete(async_predict(indata))"
   ]
  },
  {
   "cell_type": "code",
   "execution_count": 7,
   "metadata": {},
   "outputs": [
    {
     "name": "stdout",
     "output_type": "stream",
     "text": [
      "(10000, 1)\n"
     ]
    }
   ],
   "source": [
    "print(prediction.shape)"
   ]
  },
  {
   "cell_type": "code",
   "execution_count": 8,
   "metadata": {},
   "outputs": [
    {
     "name": "stdout",
     "output_type": "stream",
     "text": [
      "CPU times: user 89.2 ms, sys: 15.6 ms, total: 105 ms\n",
      "Wall time: 1.14 s\n",
      "CPU times: user 92.1 ms, sys: 9.99 ms, total: 102 ms\n",
      "Wall time: 1.1 s\n",
      "CPU times: user 77.8 ms, sys: 4.84 ms, total: 82.6 ms\n",
      "Wall time: 1.08 s\n",
      "CPU times: user 69.1 ms, sys: 12 ms, total: 81.1 ms\n",
      "Wall time: 1.08 s\n",
      "CPU times: user 102 ms, sys: 15.7 ms, total: 118 ms\n",
      "Wall time: 1.34 s\n",
      "CPU times: user 79.7 ms, sys: 8.6 ms, total: 88.3 ms\n",
      "Wall time: 1.14 s\n",
      "CPU times: user 97.2 ms, sys: 1.81 ms, total: 99 ms\n",
      "Wall time: 1.06 s\n",
      "CPU times: user 68 ms, sys: 11 ms, total: 79.1 ms\n",
      "Wall time: 1.01 s\n",
      "CPU times: user 79.6 ms, sys: 4.93 ms, total: 84.5 ms\n",
      "Wall time: 1.09 s\n",
      "CPU times: user 82.2 ms, sys: 15.1 ms, total: 97.3 ms\n",
      "Wall time: 1.36 s\n"
     ]
    }
   ],
   "source": [
    "for i in range(10):\n",
    "    %time prediction = loop.run_until_complete(async_predict(indata))"
   ]
  },
  {
   "cell_type": "code",
   "execution_count": null,
   "metadata": {},
   "outputs": [],
   "source": []
  }
 ],
 "metadata": {
  "kernelspec": {
   "display_name": "Python 3",
   "language": "python",
   "name": "python3"
  },
  "language_info": {
   "codemirror_mode": {
    "name": "ipython",
    "version": 3
   },
   "file_extension": ".py",
   "mimetype": "text/x-python",
   "name": "python",
   "nbconvert_exporter": "python",
   "pygments_lexer": "ipython3",
   "version": "3.5.2"
  }
 },
 "nbformat": 4,
 "nbformat_minor": 2
}
