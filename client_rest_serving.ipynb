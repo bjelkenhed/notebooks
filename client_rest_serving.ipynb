{
 "cells": [
  {
   "cell_type": "code",
   "execution_count": 1,
   "metadata": {},
   "outputs": [],
   "source": [
    "import aiohttp\n",
    "import asyncio\n",
    "import numpy as np\n",
    "import ujson as json"
   ]
  },
  {
   "cell_type": "code",
   "execution_count": 2,
   "metadata": {},
   "outputs": [],
   "source": [
    "def json_to_numpy(json_str, key='predictions'):\n",
    "    return np.array(json_str[key])\n",
    "\n",
    "def numpy_to_json(nd_array, key='instances'):\n",
    "    try:\n",
    "        if nd_array.shape[1] == 1:\n",
    "            nd_array.reshape(nd_array.shape[0])\n",
    "        nd_array_list =  { key : nd_array.tolist() } \n",
    "        return nd_array_list\n",
    "    except Exception as e:\n",
    "        nd_array_list =  { key : [] } \n",
    "        return nd_array_list"
   ]
  },
  {
   "cell_type": "code",
   "execution_count": 3,
   "metadata": {},
   "outputs": [],
   "source": [
    "#MODEL_HOST = 'http://192.168.64.13:30126'\n",
    "MODEL_HOST = 'http://10.100.241.46:8501'"
   ]
  },
  {
   "cell_type": "code",
   "execution_count": 4,
   "metadata": {},
   "outputs": [],
   "source": [
    "async def async_predict(indata):    \n",
    "    async with aiohttp.ClientSession() as session:\n",
    "        async with session.post(MODEL_HOST + '/v1/models/model:predict', json=numpy_to_json(indata)) as resp:\n",
    "            response_json = await resp.json()\n",
    "            return json_to_numpy(response_json)"
   ]
  },
  {
   "cell_type": "code",
   "execution_count": 5,
   "metadata": {},
   "outputs": [],
   "source": [
    "indata = np.random.randint(100000, size=(10000, 20)).astype(np.float32)"
   ]
  },
  {
   "cell_type": "code",
   "execution_count": 7,
   "metadata": {},
   "outputs": [
    {
     "name": "stdout",
     "output_type": "stream",
     "text": [
      "CPU times: user 115 ms, sys: 17.6 ms, total: 132 ms\n",
      "Wall time: 656 ms\n"
     ]
    }
   ],
   "source": [
    "loop = asyncio.get_event_loop()\n",
    "%time prediction = loop.run_until_complete(async_predict(indata))"
   ]
  },
  {
   "cell_type": "code",
   "execution_count": 8,
   "metadata": {},
   "outputs": [],
   "source": [
    "def test(nb_calls):\n",
    "    for i in range(nb_calls):\n",
    "        %time prediction = loop.run_until_complete(async_predict(indata))"
   ]
  },
  {
   "cell_type": "code",
   "execution_count": 10,
   "metadata": {},
   "outputs": [
    {
     "name": "stdout",
     "output_type": "stream",
     "text": [
      "CPU times: user 92.6 ms, sys: 12.4 ms, total: 105 ms\n",
      "Wall time: 506 ms\n",
      "CPU times: user 77.8 ms, sys: 5.92 ms, total: 83.7 ms\n",
      "Wall time: 435 ms\n",
      "CPU times: user 79 ms, sys: 5.39 ms, total: 84.4 ms\n",
      "Wall time: 394 ms\n",
      "CPU times: user 78.7 ms, sys: 4.83 ms, total: 83.5 ms\n",
      "Wall time: 462 ms\n",
      "CPU times: user 75.6 ms, sys: 9.41 ms, total: 85 ms\n",
      "Wall time: 438 ms\n",
      "CPU times: user 99.5 ms, sys: 8.07 ms, total: 108 ms\n",
      "Wall time: 479 ms\n",
      "CPU times: user 77.2 ms, sys: 4.67 ms, total: 81.9 ms\n",
      "Wall time: 470 ms\n",
      "CPU times: user 72.2 ms, sys: 11.6 ms, total: 83.8 ms\n",
      "Wall time: 397 ms\n",
      "CPU times: user 74.8 ms, sys: 9.27 ms, total: 84.1 ms\n",
      "Wall time: 508 ms\n",
      "CPU times: user 71.8 ms, sys: 11.3 ms, total: 83.1 ms\n",
      "Wall time: 432 ms\n",
      "CPU times: user 803 ms, sys: 87 ms, total: 890 ms\n",
      "Wall time: 4.53 s\n"
     ]
    }
   ],
   "source": [
    "%time test(10)"
   ]
  },
  {
   "cell_type": "code",
   "execution_count": null,
   "metadata": {},
   "outputs": [],
   "source": []
  }
 ],
 "metadata": {
  "kernelspec": {
   "display_name": "Python 3",
   "language": "python",
   "name": "python3"
  },
  "language_info": {
   "codemirror_mode": {
    "name": "ipython",
    "version": 3
   },
   "file_extension": ".py",
   "mimetype": "text/x-python",
   "name": "python",
   "nbconvert_exporter": "python",
   "pygments_lexer": "ipython3",
   "version": "3.5.2"
  }
 },
 "nbformat": 4,
 "nbformat_minor": 2
}
