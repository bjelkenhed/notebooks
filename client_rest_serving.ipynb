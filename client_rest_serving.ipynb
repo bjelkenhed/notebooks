{
 "cells": [
  {
   "cell_type": "code",
   "execution_count": 1,
   "metadata": {},
   "outputs": [],
   "source": [
    "import aiohttp\n",
    "import asyncio\n",
    "import numpy as np\n",
    "import ujson as json"
   ]
  },
  {
   "cell_type": "code",
   "execution_count": 2,
   "metadata": {},
   "outputs": [],
   "source": [
    "def json_to_numpy(json_str, key='predictions'):\n",
    "    return np.array(json_str[key])\n",
    "\n",
    "def numpy_to_json(nd_array, key='instances'):\n",
    "    try:\n",
    "        if nd_array.shape[1] == 1:\n",
    "            nd_array.reshape(nd_array.shape[0])\n",
    "        nd_array_list =  { key : nd_array.tolist() } \n",
    "        return nd_array_list\n",
    "    except Exception as e:\n",
    "        nd_array_list =  { key : [] } \n",
    "        return nd_array_list"
   ]
  },
  {
   "cell_type": "code",
   "execution_count": 3,
   "metadata": {},
   "outputs": [],
   "source": [
    "MODEL_HOST = 'http://192.168.64.13:30126'"
   ]
  },
  {
   "cell_type": "code",
   "execution_count": 4,
   "metadata": {},
   "outputs": [],
   "source": [
    "async def async_predict(indata):    \n",
    "    async with aiohttp.ClientSession() as session:\n",
    "        async with session.post(MODEL_HOST + '/v1/models/model:predict', json=numpy_to_json(indata)) as resp:\n",
    "            response_json = await resp.json()\n",
    "            return json_to_numpy(response_json)"
   ]
  },
  {
   "cell_type": "code",
   "execution_count": 5,
   "metadata": {},
   "outputs": [],
   "source": [
    "indata = np.random.randint(100000, size=(10000, 20)).astype(np.float32)"
   ]
  },
  {
   "cell_type": "code",
   "execution_count": 6,
   "metadata": {},
   "outputs": [
    {
     "name": "stdout",
     "output_type": "stream",
     "text": [
      "CPU times: user 80.6 ms, sys: 17.3 ms, total: 98 ms\n",
      "Wall time: 1.02 s\n"
     ]
    }
   ],
   "source": [
    "loop = asyncio.get_event_loop()\n",
    "%time prediction = loop.run_until_complete(async_predict(indata))"
   ]
  },
  {
   "cell_type": "code",
   "execution_count": 10,
   "metadata": {},
   "outputs": [],
   "source": [
    "def test(nb_calls):\n",
    "    for i in range(nb_calls):\n",
    "        %time prediction = loop.run_until_complete(async_predict(indata))"
   ]
  },
  {
   "cell_type": "code",
   "execution_count": null,
   "metadata": {},
   "outputs": [
    {
     "name": "stdout",
     "output_type": "stream",
     "text": [
      "CPU times: user 89 ms, sys: 19.1 ms, total: 108 ms\n",
      "Wall time: 1.04 s\n"
     ]
    }
   ],
   "source": [
    "%time test(10)"
   ]
  },
  {
   "cell_type": "code",
   "execution_count": null,
   "metadata": {},
   "outputs": [],
   "source": []
  }
 ],
 "metadata": {
  "kernelspec": {
   "display_name": "Python 3",
   "language": "python",
   "name": "python3"
  },
  "language_info": {
   "codemirror_mode": {
    "name": "ipython",
    "version": 3
   },
   "file_extension": ".py",
   "mimetype": "text/x-python",
   "name": "python",
   "nbconvert_exporter": "python",
   "pygments_lexer": "ipython3",
   "version": "3.6.5"
  }
 },
 "nbformat": 4,
 "nbformat_minor": 2
}
