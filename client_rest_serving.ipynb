{
 "cells": [
  {
   "cell_type": "code",
   "execution_count": 1,
   "metadata": {},
   "outputs": [],
   "source": [
    "import aiohttp\n",
    "import asyncio\n",
    "import numpy as np\n",
    "import ujson as json"
   ]
  },
  {
   "cell_type": "code",
   "execution_count": 2,
   "metadata": {},
   "outputs": [],
   "source": [
    "def json_to_numpy(json_str, key='predictions'):\n",
    "    return np.array(json_str[key])\n",
    "\n",
    "def numpy_to_json(nd_array, key='instances'):\n",
    "    try:\n",
    "        if nd_array.shape[1] == 1:\n",
    "            nd_array.reshape(nd_array.shape[0])\n",
    "        nd_array_list =  { key : nd_array.tolist() } \n",
    "        return nd_array_list\n",
    "    except Exception as e:\n",
    "        nd_array_list =  { key : [] } \n",
    "        return nd_array_list"
   ]
  },
  {
   "cell_type": "code",
   "execution_count": 3,
   "metadata": {},
   "outputs": [],
   "source": [
    "MODEL_HOST = 'http://192.168.64.13:30126'"
   ]
  },
  {
   "cell_type": "code",
   "execution_count": 4,
   "metadata": {},
   "outputs": [],
   "source": [
    "async def async_predict(indata):    \n",
    "    async with aiohttp.ClientSession() as session:\n",
    "        async with session.post(MODEL_HOST + '/v1/models/model:predict', json=numpy_to_json(indata)) as resp:\n",
    "            response_json = await resp.json()\n",
    "            return json_to_numpy(response_json)"
   ]
  },
  {
   "cell_type": "code",
   "execution_count": 5,
   "metadata": {},
   "outputs": [],
   "source": [
    "indata = np.random.randint(100000, size=(10000, 20)).astype(np.float32)"
   ]
  },
  {
   "cell_type": "code",
   "execution_count": 6,
   "metadata": {},
   "outputs": [
    {
     "name": "stdout",
     "output_type": "stream",
     "text": [
      "CPU times: user 80.4 ms, sys: 14.7 ms, total: 95.2 ms\n",
      "Wall time: 995 ms\n"
     ]
    }
   ],
   "source": [
    "loop = asyncio.get_event_loop()\n",
    "%time prediction = loop.run_until_complete(async_predict(indata))"
   ]
  },
  {
   "cell_type": "code",
   "execution_count": 7,
   "metadata": {},
   "outputs": [
    {
     "name": "stdout",
     "output_type": "stream",
     "text": [
      "(10000, 1)\n"
     ]
    }
   ],
   "source": [
    "print(prediction.shape)"
   ]
  },
  {
   "cell_type": "code",
   "execution_count": 8,
   "metadata": {},
   "outputs": [
    {
     "name": "stdout",
     "output_type": "stream",
     "text": [
      "CPU times: user 88.5 ms, sys: 6.12 ms, total: 94.6 ms\n",
      "Wall time: 1.08 s\n",
      "CPU times: user 93.6 ms, sys: 7.17 ms, total: 101 ms\n",
      "Wall time: 995 ms\n",
      "CPU times: user 71 ms, sys: 7.36 ms, total: 78.3 ms\n",
      "Wall time: 1.06 s\n",
      "CPU times: user 73.5 ms, sys: 5.32 ms, total: 78.8 ms\n",
      "Wall time: 1.02 s\n",
      "CPU times: user 70.2 ms, sys: 7.87 ms, total: 78.1 ms\n",
      "Wall time: 1.05 s\n",
      "CPU times: user 73 ms, sys: 4.97 ms, total: 78 ms\n",
      "Wall time: 1.25 s\n",
      "CPU times: user 101 ms, sys: 11.9 ms, total: 113 ms\n",
      "Wall time: 1.2 s\n",
      "CPU times: user 73.9 ms, sys: 7.55 ms, total: 81.5 ms\n",
      "Wall time: 1.03 s\n",
      "CPU times: user 71.9 ms, sys: 4.5 ms, total: 76.4 ms\n",
      "Wall time: 948 ms\n",
      "CPU times: user 71.5 ms, sys: 8.65 ms, total: 80.2 ms\n",
      "Wall time: 1.18 s\n"
     ]
    }
   ],
   "source": [
    "for i in range(10):\n",
    "    %time prediction = loop.run_until_complete(async_predict(indata))"
   ]
  },
  {
   "cell_type": "code",
   "execution_count": null,
   "metadata": {},
   "outputs": [],
   "source": []
  }
 ],
 "metadata": {
  "kernelspec": {
   "display_name": "Python 3",
   "language": "python",
   "name": "python3"
  },
  "language_info": {
   "codemirror_mode": {
    "name": "ipython",
    "version": 3
   },
   "file_extension": ".py",
   "mimetype": "text/x-python",
   "name": "python",
   "nbconvert_exporter": "python",
   "pygments_lexer": "ipython3",
   "version": "3.5.2"
  }
 },
 "nbformat": 4,
 "nbformat_minor": 2
}
