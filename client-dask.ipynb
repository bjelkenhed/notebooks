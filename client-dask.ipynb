{
 "cells": [
  {
   "cell_type": "code",
   "execution_count": 1,
   "metadata": {},
   "outputs": [],
   "source": [
    "import aiohttp\n",
    "import asyncio\n",
    "import numpy as np\n",
    "import json\n",
    "import dask\n",
    "from dask import delayed\n",
    "from dask.distributed import Client, LocalCluster"
   ]
  },
  {
   "cell_type": "code",
   "execution_count": 2,
   "metadata": {},
   "outputs": [],
   "source": [
    "class ModelClient():\n",
    "    \n",
    "    MODEL_HOST = 'http://192.168.64.8:30123'\n",
    "    \n",
    "    def __init__(self, model_host = MODEL_HOST):\n",
    "        self.model_host = model_host\n",
    "\n",
    "    async def async_predict(self, indata):    \n",
    "        async with aiohttp.ClientSession() as session:\n",
    "            async with session.post(self.model_host + '/predict', json=self.numpy_to_json(indata)) as resp:\n",
    "                response_json = await resp.json()\n",
    "                return self.json_to_numpy(response_json)\n",
    "    \n",
    "    def predict(self, indata):\n",
    "        loop = asyncio.get_event_loop()\n",
    "        return loop.run_until_complete(self.async_predict(indata))\n",
    "    \n",
    "    def json_to_numpy(self, json_str, key='data'):\n",
    "        return np.array(json.loads(json_str)[key])\n",
    "\n",
    "    def numpy_to_json(self, nd_array, key='data'):\n",
    "        try:\n",
    "            if nd_array.shape[1] == 1:\n",
    "                nd_array.reshape(nd_array.shape[0])\n",
    "            nd_array_list =  { key : nd_array.tolist() } \n",
    "            return json.dumps(nd_array_list)\n",
    "        except Exception as e:\n",
    "            nd_array_list =  { key : [] } \n",
    "            return json.dumps(nd_array_list)\n"
   ]
  },
  {
   "cell_type": "code",
   "execution_count": 3,
   "metadata": {},
   "outputs": [
    {
     "data": {
      "text/html": [
       "<table style=\"border: 2px solid white;\">\n",
       "<tr>\n",
       "<td style=\"vertical-align: top; border: 0px solid white\">\n",
       "<h3>Client</h3>\n",
       "<ul>\n",
       "  <li><b>Scheduler: </b>tcp://127.0.0.1:36105\n",
       "</ul>\n",
       "</td>\n",
       "<td style=\"vertical-align: top; border: 0px solid white\">\n",
       "<h3>Cluster</h3>\n",
       "<ul>\n",
       "  <li><b>Workers: </b>8</li>\n",
       "  <li><b>Cores: </b>8</li>\n",
       "  <li><b>Memory: </b>8.36 GB</li>\n",
       "</ul>\n",
       "</td>\n",
       "</tr>\n",
       "</table>"
      ],
      "text/plain": [
       "<Client: scheduler='tcp://127.0.0.1:36105' processes=8 cores=8>"
      ]
     },
     "execution_count": 3,
     "metadata": {},
     "output_type": "execute_result"
    }
   ],
   "source": [
    "client = Client()\n",
    "client"
   ]
  },
  {
   "cell_type": "code",
   "execution_count": 8,
   "metadata": {},
   "outputs": [
    {
     "name": "stdout",
     "output_type": "stream",
     "text": [
      "CPU times: user 1.86 s, sys: 842 ms, total: 2.71 s\n",
      "Wall time: 19.8 s\n"
     ]
    }
   ],
   "source": [
    "indata = np.random.randint(100000, size=(1000, 20))\n",
    "modelClient = ModelClient()\n",
    "\n",
    "result_delayed = [delayed(modelClient.predict)(indata) for i in range(100)]\n",
    "\n",
    "%time result = dask.compute(*result_delayed)"
   ]
  },
  {
   "cell_type": "code",
   "execution_count": 6,
   "metadata": {},
   "outputs": [
    {
     "data": {
      "text/plain": [
       "5000.0"
      ]
     },
     "execution_count": 6,
     "metadata": {},
     "output_type": "execute_result"
    }
   ],
   "source": [
    "100000 / 20"
   ]
  },
  {
   "cell_type": "code",
   "execution_count": null,
   "metadata": {},
   "outputs": [],
   "source": []
  }
 ],
 "metadata": {
  "kernelspec": {
   "display_name": "Python 3",
   "language": "python",
   "name": "python3"
  },
  "language_info": {
   "codemirror_mode": {
    "name": "ipython",
    "version": 3
   },
   "file_extension": ".py",
   "mimetype": "text/x-python",
   "name": "python",
   "nbconvert_exporter": "python",
   "pygments_lexer": "ipython3",
   "version": "3.5.2"
  }
 },
 "nbformat": 4,
 "nbformat_minor": 2
}
