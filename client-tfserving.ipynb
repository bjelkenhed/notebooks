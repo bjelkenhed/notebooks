{
 "cells": [
  {
   "cell_type": "code",
   "execution_count": 1,
   "metadata": {},
   "outputs": [],
   "source": [
    "import aiohttp\n",
    "import asyncio\n",
    "import numpy as np\n",
    "import json"
   ]
  },
  {
   "cell_type": "code",
   "execution_count": 100,
   "metadata": {},
   "outputs": [],
   "source": [
    "def json_to_numpy(json_str, key='predictions'):\n",
    "    return np.array(json_str[key])\n",
    "\n",
    "def numpy_to_json(nd_array, key='instances'):\n",
    "    try:\n",
    "        if nd_array.shape[1] == 1:\n",
    "            nd_array.reshape(nd_array.shape[0])\n",
    "        nd_array_list =  { key : nd_array.tolist() } \n",
    "        return nd_array_list\n",
    "    except Exception as e:\n",
    "        nd_array_list =  { key : [] } \n",
    "        return nd_array_list"
   ]
  },
  {
   "cell_type": "code",
   "execution_count": 101,
   "metadata": {},
   "outputs": [],
   "source": [
    "MODEL_HOST = 'http://192.168.64.13:30125'"
   ]
  },
  {
   "cell_type": "code",
   "execution_count": 123,
   "metadata": {},
   "outputs": [],
   "source": [
    "async def async_predict(indata):    \n",
    "    async with aiohttp.ClientSession() as session:\n",
    "        async with session.post('http://192.168.64.13:30125/v1/models/model:predict', json=numpy_to_json(indata)) as resp:\n",
    "            response_json = await resp.json()\n",
    "            return json_to_numpy(response_json)"
   ]
  },
  {
   "cell_type": "code",
   "execution_count": 137,
   "metadata": {},
   "outputs": [],
   "source": [
    "indata = np.random.randint(100000, size=(10000, 20)).astype(np.float32)"
   ]
  },
  {
   "cell_type": "code",
   "execution_count": 139,
   "metadata": {},
   "outputs": [
    {
     "name": "stdout",
     "output_type": "stream",
     "text": [
      "CPU times: user 86.7 ms, sys: 3.11 ms, total: 89.8 ms\n",
      "Wall time: 1.01 s\n"
     ]
    }
   ],
   "source": [
    "loop = asyncio.get_event_loop()\n",
    "%time prediction = loop.run_until_complete(async_predict(indata))"
   ]
  },
  {
   "cell_type": "code",
   "execution_count": 140,
   "metadata": {},
   "outputs": [
    {
     "name": "stdout",
     "output_type": "stream",
     "text": [
      "(10000, 1)\n"
     ]
    }
   ],
   "source": [
    "print(prediction.shape)"
   ]
  },
  {
   "cell_type": "code",
   "execution_count": 141,
   "metadata": {},
   "outputs": [
    {
     "name": "stdout",
     "output_type": "stream",
     "text": [
      "CPU times: user 99.7 ms, sys: 8.53 ms, total: 108 ms\n",
      "Wall time: 1.04 s\n",
      "CPU times: user 63.1 ms, sys: 3.59 ms, total: 66.7 ms\n",
      "Wall time: 902 ms\n",
      "CPU times: user 68.9 ms, sys: 7.67 ms, total: 76.5 ms\n",
      "Wall time: 1.01 s\n",
      "CPU times: user 92.2 ms, sys: 3.23 ms, total: 95.5 ms\n",
      "Wall time: 981 ms\n",
      "CPU times: user 67.3 ms, sys: 7.57 ms, total: 74.8 ms\n",
      "Wall time: 985 ms\n",
      "CPU times: user 72.7 ms, sys: 2.43 ms, total: 75.2 ms\n",
      "Wall time: 1.2 s\n",
      "CPU times: user 76.2 ms, sys: 2.03 ms, total: 78.2 ms\n",
      "Wall time: 1.19 s\n",
      "CPU times: user 69.6 ms, sys: 4.6 ms, total: 74.2 ms\n",
      "Wall time: 966 ms\n",
      "CPU times: user 98.2 ms, sys: 3.1 ms, total: 101 ms\n",
      "Wall time: 1.02 s\n",
      "CPU times: user 69.6 ms, sys: 6.68 ms, total: 76.3 ms\n",
      "Wall time: 1 s\n"
     ]
    }
   ],
   "source": [
    "for i in range(10):\n",
    "    %time prediction = loop.run_until_complete(async_predict(indata))"
   ]
  },
  {
   "cell_type": "code",
   "execution_count": null,
   "metadata": {},
   "outputs": [],
   "source": []
  }
 ],
 "metadata": {
  "kernelspec": {
   "display_name": "Python 3",
   "language": "python",
   "name": "python3"
  },
  "language_info": {
   "codemirror_mode": {
    "name": "ipython",
    "version": 3
   },
   "file_extension": ".py",
   "mimetype": "text/x-python",
   "name": "python",
   "nbconvert_exporter": "python",
   "pygments_lexer": "ipython3",
   "version": "3.5.2"
  }
 },
 "nbformat": 4,
 "nbformat_minor": 2
}
